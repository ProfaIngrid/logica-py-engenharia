{
  "nbformat": 4,
  "nbformat_minor": 0,
  "metadata": {
    "colab": {
      "provenance": []
    },
    "kernelspec": {
      "name": "python3",
      "display_name": "Python 3"
    },
    "language_info": {
      "name": "python"
    }
  },
  "cells": [
    {
      "cell_type": "code",
      "execution_count": 24,
      "metadata": {
        "id": "Ek-uUrFoMLtW"
      },
      "outputs": [],
      "source": [
        "def mostraNome(nome):\n",
        "  print(\"Olá, boa noite\", nome)"
      ]
    },
    {
      "cell_type": "code",
      "source": [
        "nomes = [\"João\", \"Maria\", \"Renata\"]"
      ],
      "metadata": {
        "id": "ClGvMdXpNwzE"
      },
      "execution_count": 25,
      "outputs": []
    },
    {
      "cell_type": "code",
      "source": [
        "for nome in nomes:\n",
        "  mostraNome(nome)"
      ],
      "metadata": {
        "colab": {
          "base_uri": "https://localhost:8080/"
        },
        "id": "515zytohQzDA",
        "outputId": "eb3bf189-7396-4e82-a4aa-7fe4c7d251f6"
      },
      "execution_count": 26,
      "outputs": [
        {
          "output_type": "stream",
          "name": "stdout",
          "text": [
            "Olá, boa noite João\n",
            "Olá, boa noite Maria\n",
            "Olá, boa noite Renata\n"
          ]
        }
      ]
    },
    {
      "cell_type": "code",
      "source": [
        "def soma(a, b):\n",
        "  print(a+b)"
      ],
      "metadata": {
        "id": "0BhiKsweSiAA"
      },
      "execution_count": 27,
      "outputs": []
    },
    {
      "cell_type": "code",
      "source": [
        "soma(6, 3)"
      ],
      "metadata": {
        "colab": {
          "base_uri": "https://localhost:8080/"
        },
        "id": "r6kc3Gt-TVRt",
        "outputId": "f0f54f3a-2b96-44f6-8e4b-f846395d2f94"
      },
      "execution_count": 28,
      "outputs": [
        {
          "output_type": "stream",
          "name": "stdout",
          "text": [
            "9\n"
          ]
        }
      ]
    },
    {
      "cell_type": "code",
      "source": [
        "#sub[-] #mult[*]  #div[/]"
      ],
      "metadata": {
        "id": "M3nrzItsT2sc"
      },
      "execution_count": null,
      "outputs": []
    },
    {
      "cell_type": "code",
      "source": [
        "def subtracao(a, b):\n",
        "  print(a-b)"
      ],
      "metadata": {
        "id": "7yoo5F1jb2h1"
      },
      "execution_count": 29,
      "outputs": []
    },
    {
      "cell_type": "code",
      "source": [
        "def multiplicacao(a, b):\n",
        "  print(a*b)"
      ],
      "metadata": {
        "id": "txe5OCSQc8c9"
      },
      "execution_count": 30,
      "outputs": []
    },
    {
      "cell_type": "code",
      "source": [
        "def divisao(a, b):\n",
        "  if b == 0:\n",
        "    print(0)\n",
        "  else:\n",
        "    print(a/b)"
      ],
      "metadata": {
        "id": "kIEyhA12dCiy"
      },
      "execution_count": 31,
      "outputs": []
    },
    {
      "cell_type": "code",
      "source": [
        "divisao(2, 0)"
      ],
      "metadata": {
        "colab": {
          "base_uri": "https://localhost:8080/"
        },
        "id": "TGMDvLkUdIdD",
        "outputId": "19679b18-d26b-46e2-d4f6-8dba34021947"
      },
      "execution_count": null,
      "outputs": [
        {
          "output_type": "stream",
          "name": "stdout",
          "text": [
            "0\n"
          ]
        }
      ]
    },
    {
      "cell_type": "code",
      "source": [
        "def calculadora(a, b, op):\n",
        "  if op == '+':\n",
        "    soma(a, b)\n",
        "  elif op == '-':\n",
        "    subtracao(a, b)\n",
        "  elif op == 'x':\n",
        "    multiplicacao(a,b)\n",
        "  elif op == '/':\n",
        "    divisao(a,b)"
      ],
      "metadata": {
        "id": "0z_LoDaDeVEr"
      },
      "execution_count": 32,
      "outputs": []
    },
    {
      "cell_type": "code",
      "source": [
        "val1 = float(input(\"Digite um valor: \"))\n",
        "val2 = float(input(\"Digite outro valor: \"))\n",
        "operacao = input(\"Qual a operação? \")\n",
        "\n",
        "calculadora(val1, val2, operacao)"
      ],
      "metadata": {
        "colab": {
          "base_uri": "https://localhost:8080/"
        },
        "id": "W_lemQkcegvg",
        "outputId": "df833fc9-2b22-4a52-e9bd-1ef037f19843"
      },
      "execution_count": 33,
      "outputs": [
        {
          "output_type": "stream",
          "name": "stdout",
          "text": [
            "Digite um valor: 3\n",
            "Digite outro valor: 6\n",
            "Qual a operação? +\n",
            "9.0\n"
          ]
        }
      ]
    },
    {
      "cell_type": "code",
      "source": [
        "print(type(val2))"
      ],
      "metadata": {
        "id": "k6XCfFVipQXt",
        "colab": {
          "base_uri": "https://localhost:8080/"
        },
        "outputId": "6f32c5d7-bed5-436c-bfa4-ac0f46778af1"
      },
      "execution_count": 18,
      "outputs": [
        {
          "output_type": "stream",
          "name": "stdout",
          "text": [
            "<class 'str'>\n"
          ]
        }
      ]
    }
  ]
}