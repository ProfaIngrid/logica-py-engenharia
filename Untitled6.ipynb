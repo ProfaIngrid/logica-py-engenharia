{
  "nbformat": 4,
  "nbformat_minor": 0,
  "metadata": {
    "colab": {
      "provenance": []
    },
    "kernelspec": {
      "name": "python3",
      "display_name": "Python 3"
    },
    "language_info": {
      "name": "python"
    }
  },
  "cells": [
    {
      "cell_type": "code",
      "execution_count": null,
      "metadata": {
        "id": "Ek-uUrFoMLtW"
      },
      "outputs": [],
      "source": [
        "def mostraNome(nome):\n",
        "  print(\"Olá, boa noite\", nome)"
      ]
    },
    {
      "cell_type": "code",
      "source": [
        "nomes = [\"João\", \"Maria\", \"Renata\"]"
      ],
      "metadata": {
        "id": "ClGvMdXpNwzE"
      },
      "execution_count": null,
      "outputs": []
    },
    {
      "cell_type": "code",
      "source": [
        "for nome in nomes:\n",
        "  mostraNome(nome)"
      ],
      "metadata": {
        "colab": {
          "base_uri": "https://localhost:8080/"
        },
        "id": "515zytohQzDA",
        "outputId": "b6d8b2fc-880f-4c16-caf9-db64dea0f158"
      },
      "execution_count": null,
      "outputs": [
        {
          "output_type": "stream",
          "name": "stdout",
          "text": [
            "Olá, boa noite João\n",
            "Olá, boa noite Maria\n",
            "Olá, boa noite Renata\n"
          ]
        }
      ]
    },
    {
      "cell_type": "code",
      "source": [
        "def soma(a, b):\n",
        "  print(a+b)"
      ],
      "metadata": {
        "id": "0BhiKsweSiAA"
      },
      "execution_count": null,
      "outputs": []
    },
    {
      "cell_type": "code",
      "source": [
        "soma(6, 3)"
      ],
      "metadata": {
        "colab": {
          "base_uri": "https://localhost:8080/"
        },
        "id": "r6kc3Gt-TVRt",
        "outputId": "0cabb9f6-d840-46a7-b8fb-2551052308cb"
      },
      "execution_count": null,
      "outputs": [
        {
          "output_type": "stream",
          "name": "stdout",
          "text": [
            "9\n"
          ]
        }
      ]
    },
    {
      "cell_type": "code",
      "source": [
        "#sub[-] #mult[*]  #div[/]"
      ],
      "metadata": {
        "id": "M3nrzItsT2sc"
      },
      "execution_count": null,
      "outputs": []
    },
    {
      "cell_type": "code",
      "source": [
        "def subtracao(a, b):\n",
        "  print(a-b)"
      ],
      "metadata": {
        "id": "7yoo5F1jb2h1"
      },
      "execution_count": null,
      "outputs": []
    },
    {
      "cell_type": "code",
      "source": [
        "def multiplicacao(a, b):\n",
        "  print(a*b)"
      ],
      "metadata": {
        "id": "txe5OCSQc8c9"
      },
      "execution_count": null,
      "outputs": []
    },
    {
      "cell_type": "code",
      "source": [
        "def divisao(a, b):\n",
        "  if b == 0:\n",
        "    print(0)\n",
        "  else:\n",
        "    print(a/b)"
      ],
      "metadata": {
        "id": "kIEyhA12dCiy"
      },
      "execution_count": null,
      "outputs": []
    },
    {
      "cell_type": "code",
      "source": [
        "divisao(2, 0)"
      ],
      "metadata": {
        "colab": {
          "base_uri": "https://localhost:8080/"
        },
        "id": "TGMDvLkUdIdD",
        "outputId": "19679b18-d26b-46e2-d4f6-8dba34021947"
      },
      "execution_count": null,
      "outputs": [
        {
          "output_type": "stream",
          "name": "stdout",
          "text": [
            "0\n"
          ]
        }
      ]
    },
    {
      "cell_type": "code",
      "source": [
        "def calculadora(a, b, op):\n",
        "  if op == '+':\n",
        "    soma(a, b)\n",
        "  elif op == '-':\n",
        "    subtracao(a, b)\n",
        "  elif op == 'x':\n",
        "    multiplicacao(a,b)\n",
        "  elif op == '/':\n",
        "    divisao(a,b)"
      ],
      "metadata": {
        "id": "0z_LoDaDeVEr"
      },
      "execution_count": null,
      "outputs": []
    },
    {
      "cell_type": "code",
      "source": [
        "calculadora(5, 5, '+')"
      ],
      "metadata": {
        "colab": {
          "base_uri": "https://localhost:8080/"
        },
        "id": "W_lemQkcegvg",
        "outputId": "41c358af-9e4d-46f4-8ca6-f55171f8821e"
      },
      "execution_count": null,
      "outputs": [
        {
          "output_type": "stream",
          "name": "stdout",
          "text": [
            "10\n"
          ]
        }
      ]
    },
    {
      "cell_type": "code",
      "source": [],
      "metadata": {
        "id": "k6XCfFVipQXt"
      },
      "execution_count": null,
      "outputs": []
    }
  ]
}